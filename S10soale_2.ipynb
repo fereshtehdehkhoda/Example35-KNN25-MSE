{
  "cells": [
    {
      "cell_type": "markdown",
      "metadata": {
        "id": "view-in-github",
        "colab_type": "text"
      },
      "source": [
        "<a href=\"https://colab.research.google.com/github/fereshtehdehkhoda/Example35-KNN25-MSE/blob/main/S10soale_2.ipynb\" target=\"_parent\"><img src=\"https://colab.research.google.com/assets/colab-badge.svg\" alt=\"Open In Colab\"/></a>"
      ]
    },
    {
      "cell_type": "code",
      "execution_count": null,
      "id": "16d1a426-770e-4a55-b589-9f1f64ec49a5",
      "metadata": {
        "id": "16d1a426-770e-4a55-b589-9f1f64ec49a5"
      },
      "outputs": [],
      "source": [
        "#روی داده‌های آموزش hw10_train.csv یک مدل نزدیکترین همسایه (kNN) بسازید. تعداد همسایه‌ها را 25 قرار دهید. شاخص MSE روی داده‌های آموزش چقدر است؟"
      ]
    },
    {
      "cell_type": "code",
      "execution_count": null,
      "id": "972afdef-b203-4010-b0cc-4b72a48156f4",
      "metadata": {
        "id": "972afdef-b203-4010-b0cc-4b72a48156f4"
      },
      "outputs": [],
      "source": [
        "import pandas as pd\n",
        "import numpy as np"
      ]
    },
    {
      "cell_type": "code",
      "execution_count": null,
      "id": "5dc5c97f-6d64-4c38-b72f-bcba2485860b",
      "metadata": {
        "id": "5dc5c97f-6d64-4c38-b72f-bcba2485860b"
      },
      "outputs": [],
      "source": [
        "data=pd.read_csv(\"hw10_train.csv\")"
      ]
    },
    {
      "cell_type": "code",
      "execution_count": null,
      "id": "0db5b58b-d16d-4c73-8ec2-79a019aea342",
      "metadata": {
        "id": "0db5b58b-d16d-4c73-8ec2-79a019aea342",
        "outputId": "d6fa5235-9131-495d-ea50-f0cf746d8d22"
      },
      "outputs": [
        {
          "name": "stdout",
          "output_type": "stream",
          "text": [
            "<class 'pandas.core.frame.DataFrame'>\n",
            "RangeIndex: 6500 entries, 0 to 6499\n",
            "Data columns (total 5 columns):\n",
            " #   Column  Non-Null Count  Dtype  \n",
            "---  ------  --------------  -----  \n",
            " 0   AT      6500 non-null   float64\n",
            " 1   V       6500 non-null   float64\n",
            " 2   AP      6500 non-null   float64\n",
            " 3   RH      6500 non-null   float64\n",
            " 4   PE      6500 non-null   float64\n",
            "dtypes: float64(5)\n",
            "memory usage: 254.0 KB\n"
          ]
        }
      ],
      "source": [
        "data.info()"
      ]
    },
    {
      "cell_type": "code",
      "execution_count": null,
      "id": "6b6382c9-12e6-4c0d-b704-115002b82a82",
      "metadata": {
        "id": "6b6382c9-12e6-4c0d-b704-115002b82a82"
      },
      "outputs": [],
      "source": [
        "features=['AT','AP','RH','V']\n",
        "X_train=data[features]"
      ]
    },
    {
      "cell_type": "code",
      "execution_count": null,
      "id": "e054d110-117c-42b6-a035-e3f1ea085486",
      "metadata": {
        "id": "e054d110-117c-42b6-a035-e3f1ea085486"
      },
      "outputs": [],
      "source": [
        "y_train=data['PE']"
      ]
    },
    {
      "cell_type": "code",
      "execution_count": null,
      "id": "7fffd5a9-cb4e-421d-a34d-bc7fac90e667",
      "metadata": {
        "id": "7fffd5a9-cb4e-421d-a34d-bc7fac90e667"
      },
      "outputs": [],
      "source": [
        "from sklearn.neighbors import KNeighborsRegressor"
      ]
    },
    {
      "cell_type": "code",
      "execution_count": null,
      "id": "11982199-3b03-4b3a-b113-516356a6ffb4",
      "metadata": {
        "id": "11982199-3b03-4b3a-b113-516356a6ffb4",
        "outputId": "f016e1c2-6818-424f-a7ad-c5578fd78902"
      },
      "outputs": [
        {
          "data": {
            "text/html": [
              "<div>\n",
              "<style scoped>\n",
              "    .dataframe tbody tr th:only-of-type {\n",
              "        vertical-align: middle;\n",
              "    }\n",
              "\n",
              "    .dataframe tbody tr th {\n",
              "        vertical-align: top;\n",
              "    }\n",
              "\n",
              "    .dataframe thead th {\n",
              "        text-align: right;\n",
              "    }\n",
              "</style>\n",
              "<table border=\"1\" class=\"dataframe\">\n",
              "  <thead>\n",
              "    <tr style=\"text-align: right;\">\n",
              "      <th></th>\n",
              "      <th>AT</th>\n",
              "      <th>V</th>\n",
              "      <th>AP</th>\n",
              "      <th>RH</th>\n",
              "      <th>PE</th>\n",
              "      <th>pred_k25</th>\n",
              "    </tr>\n",
              "  </thead>\n",
              "  <tbody>\n",
              "    <tr>\n",
              "      <th>0</th>\n",
              "      <td>14.96</td>\n",
              "      <td>41.76</td>\n",
              "      <td>1024.07</td>\n",
              "      <td>73.17</td>\n",
              "      <td>463.26</td>\n",
              "      <td>465.6692</td>\n",
              "    </tr>\n",
              "    <tr>\n",
              "      <th>1</th>\n",
              "      <td>25.18</td>\n",
              "      <td>62.96</td>\n",
              "      <td>1020.04</td>\n",
              "      <td>59.08</td>\n",
              "      <td>444.37</td>\n",
              "      <td>445.0212</td>\n",
              "    </tr>\n",
              "    <tr>\n",
              "      <th>2</th>\n",
              "      <td>5.11</td>\n",
              "      <td>39.40</td>\n",
              "      <td>1012.16</td>\n",
              "      <td>92.14</td>\n",
              "      <td>488.56</td>\n",
              "      <td>486.4996</td>\n",
              "    </tr>\n",
              "    <tr>\n",
              "      <th>3</th>\n",
              "      <td>20.86</td>\n",
              "      <td>57.32</td>\n",
              "      <td>1010.24</td>\n",
              "      <td>76.64</td>\n",
              "      <td>446.48</td>\n",
              "      <td>445.3324</td>\n",
              "    </tr>\n",
              "    <tr>\n",
              "      <th>4</th>\n",
              "      <td>10.82</td>\n",
              "      <td>37.50</td>\n",
              "      <td>1009.23</td>\n",
              "      <td>96.62</td>\n",
              "      <td>473.90</td>\n",
              "      <td>473.2564</td>\n",
              "    </tr>\n",
              "    <tr>\n",
              "      <th>...</th>\n",
              "      <td>...</td>\n",
              "      <td>...</td>\n",
              "      <td>...</td>\n",
              "      <td>...</td>\n",
              "      <td>...</td>\n",
              "      <td>...</td>\n",
              "    </tr>\n",
              "    <tr>\n",
              "      <th>6495</th>\n",
              "      <td>24.01</td>\n",
              "      <td>60.84</td>\n",
              "      <td>1018.83</td>\n",
              "      <td>63.82</td>\n",
              "      <td>436.32</td>\n",
              "      <td>446.5524</td>\n",
              "    </tr>\n",
              "    <tr>\n",
              "      <th>6496</th>\n",
              "      <td>26.67</td>\n",
              "      <td>70.94</td>\n",
              "      <td>1007.70</td>\n",
              "      <td>56.56</td>\n",
              "      <td>439.13</td>\n",
              "      <td>434.4152</td>\n",
              "    </tr>\n",
              "    <tr>\n",
              "      <th>6497</th>\n",
              "      <td>11.57</td>\n",
              "      <td>44.63</td>\n",
              "      <td>1020.70</td>\n",
              "      <td>91.11</td>\n",
              "      <td>469.64</td>\n",
              "      <td>472.4368</td>\n",
              "    </tr>\n",
              "    <tr>\n",
              "      <th>6498</th>\n",
              "      <td>27.33</td>\n",
              "      <td>66.17</td>\n",
              "      <td>1011.06</td>\n",
              "      <td>64.55</td>\n",
              "      <td>443.89</td>\n",
              "      <td>438.7892</td>\n",
              "    </tr>\n",
              "    <tr>\n",
              "      <th>6499</th>\n",
              "      <td>14.51</td>\n",
              "      <td>44.84</td>\n",
              "      <td>1023.23</td>\n",
              "      <td>82.33</td>\n",
              "      <td>465.09</td>\n",
              "      <td>466.5356</td>\n",
              "    </tr>\n",
              "  </tbody>\n",
              "</table>\n",
              "<p>6500 rows × 6 columns</p>\n",
              "</div>"
            ],
            "text/plain": [
              "         AT      V       AP     RH      PE  pred_k25\n",
              "0     14.96  41.76  1024.07  73.17  463.26  465.6692\n",
              "1     25.18  62.96  1020.04  59.08  444.37  445.0212\n",
              "2      5.11  39.40  1012.16  92.14  488.56  486.4996\n",
              "3     20.86  57.32  1010.24  76.64  446.48  445.3324\n",
              "4     10.82  37.50  1009.23  96.62  473.90  473.2564\n",
              "...     ...    ...      ...    ...     ...       ...\n",
              "6495  24.01  60.84  1018.83  63.82  436.32  446.5524\n",
              "6496  26.67  70.94  1007.70  56.56  439.13  434.4152\n",
              "6497  11.57  44.63  1020.70  91.11  469.64  472.4368\n",
              "6498  27.33  66.17  1011.06  64.55  443.89  438.7892\n",
              "6499  14.51  44.84  1023.23  82.33  465.09  466.5356\n",
              "\n",
              "[6500 rows x 6 columns]"
            ]
          },
          "execution_count": 33,
          "metadata": {},
          "output_type": "execute_result"
        }
      ],
      "source": [
        "knn_25=KNeighborsRegressor(n_neighbors=25)\n",
        "knn_25.fit(X_train,y_train)\n",
        "data['pred_k25']=knn_25.predict(X_train)\n",
        "data"
      ]
    },
    {
      "cell_type": "code",
      "execution_count": null,
      "id": "149113bb-06b1-4d2e-b39d-ee4be00494bf",
      "metadata": {
        "id": "149113bb-06b1-4d2e-b39d-ee4be00494bf",
        "outputId": "9d633380-cf03-4227-bdeb-384e04efd5b0"
      },
      "outputs": [
        {
          "data": {
            "text/plain": [
              "16.731810317636917"
            ]
          },
          "execution_count": 35,
          "metadata": {},
          "output_type": "execute_result"
        }
      ],
      "source": [
        "MSE=np.mean((data['PE']-data['pred_k25'])**2)\n",
        "MSE"
      ]
    },
    {
      "cell_type": "code",
      "execution_count": null,
      "id": "b5db5717-8335-4099-9b5b-ed1f773b44e6",
      "metadata": {
        "id": "b5db5717-8335-4099-9b5b-ed1f773b44e6"
      },
      "outputs": [],
      "source": []
    }
  ],
  "metadata": {
    "kernelspec": {
      "display_name": "Python 3 (ipykernel)",
      "language": "python",
      "name": "python3"
    },
    "language_info": {
      "codemirror_mode": {
        "name": "ipython",
        "version": 3
      },
      "file_extension": ".py",
      "mimetype": "text/x-python",
      "name": "python",
      "nbconvert_exporter": "python",
      "pygments_lexer": "ipython3",
      "version": "3.12.4"
    },
    "colab": {
      "provenance": [],
      "include_colab_link": true
    }
  },
  "nbformat": 4,
  "nbformat_minor": 5
}